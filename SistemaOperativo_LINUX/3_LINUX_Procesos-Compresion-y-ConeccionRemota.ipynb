{
 "cells": [
  {
   "cell_type": "markdown",
   "metadata": {},
   "source": [
    "# Introducción a las herramientas del cómputo científico.\n",
    "\n",
    "Sergio A. Alcalá Corona <br>\n",
    "Sergio A. Sánchez Chávez\n",
    "\n",
    "---\n",
    "---"
   ]
  },
  {
   "cell_type": "markdown",
   "metadata": {},
   "source": [
    "# SISTEMA OPERATIVO LINUX\n",
    "\n",
    "## Procesos, Empaquetamiento & Compresión y *Conección Remota*.\n",
    "\n",
    "\n",
    "En este *Notebook* expondremos algunos comandos relacionados con monitorar los procesos corriendo en el sistema, así como como empaquetar y comprimir archivos en Linux.\n",
    "\n",
    "Finalmente exploramos los comandos necesarios para cómo conectarse via remota e interactuar de manera multiusuario en un sistema linux.\n",
    "\n",
    "Recuerda que puedes probar los comados en este *Notebook* (via Binder), pero es recomendable que lo hagas una terminal *bash*.\n",
    "\n",
    "---\n"
   ]
  },
  {
   "cell_type": "markdown",
   "metadata": {},
   "source": [
    "# Procesos\n",
    "Un proceso es un programa que se encuentra ejecutandose en el sistema operativo, cada proceso tiene un tiempo de vida que va desde el momento en que presionamos la tecla de enter hasta que termina la ejecución del proceso."
   ]
  },
  {
   "cell_type": "markdown",
   "metadata": {},
   "source": [
    "__*ps*__ \n",
    "\n",
    "Este comando permite ver los procesos que se están ejecutando desde nuestra sesión abierta, y que se encuentra en uso en este momento, muestra un listado de los procesos en formato corto."
   ]
  },
  {
   "cell_type": "code",
   "execution_count": 1,
   "metadata": {},
   "outputs": [
    {
     "name": "stdout",
     "output_type": "stream",
     "text": [
      "  PID TTY          TIME CMD\n",
      "19625 pts/4    00:00:00 bash\n",
      "19712 pts/4    00:00:00 ps\n"
     ]
    }
   ],
   "source": [
    "ps"
   ]
  },
  {
   "cell_type": "markdown",
   "metadata": {},
   "source": [
    "#### Ahora algunas opciones ..."
   ]
  },
  {
   "cell_type": "markdown",
   "metadata": {},
   "source": [
    "__*ps*__ **`–u`**  _`usuario`_\n",
    "\n",
    "\n",
    "muestra un listado de todos los procesos que esta ejecutando un usuario, aunque se encuentre trabajando en varias sesiones el sistema listará todos los procesos que le pertenecen a dicho usuario.\n"
   ]
  },
  {
   "cell_type": "code",
   "execution_count": null,
   "metadata": {},
   "outputs": [],
   "source": [
    "ps -u root"
   ]
  },
  {
   "cell_type": "code",
   "execution_count": 2,
   "metadata": {},
   "outputs": [],
   "source": [
    "ps -u sergio"
   ]
  },
  {
   "cell_type": "markdown",
   "metadata": {},
   "source": [
    "__*ps*__ **`–f`** \n",
    "\n",
    "\n",
    "entrega un listado de los procesos que se están ejecutando en nuestra sesión, muestra los procesos en formato largo, donde podemos ver la dependencia de los procesos por el __UID__, __PID__ y el __PPID__.\n",
    "\n",
    "* El __UID__ es el identificador del Usuario dueño del proceso.\n",
    "* El __PID__ es el número del identificador del Proceso en ejecución.\n",
    "* El __PPID__ es el identificador del Proceso Padre del Proceso en ejecución.\n"
   ]
  },
  {
   "cell_type": "code",
   "execution_count": 3,
   "metadata": {},
   "outputs": [],
   "source": [
    "ps -f"
   ]
  },
  {
   "cell_type": "markdown",
   "metadata": {},
   "source": [
    "__*ps*__ **`–e`** \n",
    "\n",
    "Muestra un listado en formato sencillo de todos los procesos ejecutándose en el\n",
    "servidor."
   ]
  },
  {
   "cell_type": "code",
   "execution_count": 4,
   "metadata": {},
   "outputs": [],
   "source": [
    "ps -e"
   ]
  },
  {
   "cell_type": "markdown",
   "metadata": {},
   "source": [
    "__*ps*__ **`–fea`** \n",
    "\n",
    "Muestra todos los procesos ejecutándose en el servidor en formato largo.\n",
    "\n",
    "Los procesos pueden encontrarse en diferente estado dependiendo de la atención que estén teniendo en un momento en específico."
   ]
  },
  {
   "cell_type": "code",
   "execution_count": 5,
   "metadata": {},
   "outputs": [],
   "source": [
    "ps -fea"
   ]
  },
  {
   "cell_type": "markdown",
   "metadata": {},
   "source": [
    "__*ps*__ **`–h`** \n",
    "\n",
    "nos indica el estado en que se esta ejecutando los procesos."
   ]
  },
  {
   "cell_type": "code",
   "execution_count": 6,
   "metadata": {},
   "outputs": [],
   "source": [
    "ps -h"
   ]
  },
  {
   "cell_type": "markdown",
   "metadata": {},
   "source": [
    "### Monitorear procesos de forma Interactiva\n",
    "\n",
    "Para poder ver que procesos se están ejecutando en el sistema *en tiempo real*, podemos usar los comados `top` y `htop`."
   ]
  },
  {
   "cell_type": "markdown",
   "metadata": {},
   "source": [
    "__*top*__\n",
    "\n",
    "Este comando al igual que ps nos permite ver los procesos que se están ejecutando en el equipo.\n",
    "\n",
    "Sin embargo con top se muestra la lista de procesos de forma __dinámica__, de tal manera que podemos ver en tiempo real la ejecución de cada proceso, así como los recursos que esta utilizando.\n",
    "\n",
    "Para salir de top usamos la tecla __`q`__.\n",
    "\n",
    "Estados de los procesos:\n",
    "\n",
    "* __Z__ Zombie, cuando un proceso corre en forma independiente, incluso del shell o del proceso que lo invocó.\n",
    "* __R__ En ejecución, se encuentra en la CPU.\n",
    "* __T__ Stopped o detenido.\n",
    "* __S__ Sleeping Durmiendo en espera de recibir una solicitud para iniciar su trabajo.\n",
    "* __D__ Dormido sin interrupción posible, normalmente relacionado con entrada/salida.\n",
    "\n",
    "<img src=\"permisos.png\">"
   ]
  },
  {
   "cell_type": "markdown",
   "metadata": {},
   "source": [
    "__*htop*__ \n",
    "\n",
    "Este comando es similar a `top`, pero con mas opciones. Incluso es posible visualizar el uso de la memoria y la carga de los procesadores.\n",
    "\n",
    "<img src=\"htop.png\">"
   ]
  },
  {
   "cell_type": "markdown",
   "metadata": {},
   "source": [
    "### Procesos en primer y segundo plano.\n",
    "\n",
    "Hay programas que al ejecutarse no regresan el control al shell. Una vez que se esta ejecutando así un  programa, nosotros podemos enviarlo a segundo plano (background) presionando la combinación de teclas __`ctrl+z`__, pero entonces el programa se detiene.\n",
    "\n",
    "Para mandar un proceso a segundo plano sin que este detenga su ejecución debemos dar la instrucción __`bg #`__ donde el __`#`__ representa el número que nos entrega el comando **`jobs`**."
   ]
  },
  {
   "cell_type": "markdown",
   "metadata": {},
   "source": [
    "Es posible enviar un proceso a segundo plano en forma automática desde el momento en que éste se inicia, esto se logra colocando el carácter de ampersand al final de la línea del comando **`&`**.\n",
    "\n",
    "__*`ls -laR / > LISTA`*__ __*`&`*__\n",
    "\n",
    "Generalmente los procesos que escriben directamente en pantalla no pueden enviarse a segundo plano como el __ls__."
   ]
  },
  {
   "cell_type": "markdown",
   "metadata": {},
   "source": [
    "__*jobs*__\n",
    "\n",
    "Este comando nos permite ver los programas que se están ejecutando en segundo plano, nótese que a cada proceso en segundo plano se asigna un número que nos sirve para identificar el proceso."
   ]
  },
  {
   "cell_type": "code",
   "execution_count": 5,
   "metadata": {},
   "outputs": [],
   "source": [
    "jobs"
   ]
  },
  {
   "cell_type": "markdown",
   "metadata": {},
   "source": [
    "__*jobs*__ **`–l`** \n",
    "\n",
    "Muestra los procesos en segundo plano con formato largo."
   ]
  },
  {
   "cell_type": "code",
   "execution_count": 6,
   "metadata": {},
   "outputs": [],
   "source": [
    "jobs -l"
   ]
  },
  {
   "cell_type": "markdown",
   "metadata": {},
   "source": [
    "Para regresar un proceso a primer plano debemos dar la instrucción __*`fg #`*__ donde el **`#`** representa el número que nos entrega el comando **`jobs`**.\n",
    "\n",
    "De esta forma podemos interactuar con nuestros procesos mandándolos a primer o segundo plano según nuestras necesidades de trabajo."
   ]
  },
  {
   "cell_type": "markdown",
   "metadata": {},
   "source": [
    "## Finalización de Procesos.\n",
    "Muchos programas terminan su ejecución presionando la tecla __`q`__, otros usando la combinación de teclas __`ctrl+c`__ o bien otros (como el propio intérprete de comandos *shell*) termian usando __`ctrl+d`__.\n",
    "\n",
    "Sin embargo hay proceso que están corriendo en el equipo que no se ejecutan desde el desde el __shell__. O bien suele suceder que hay programas que tienen errores y se atoran.\n",
    "\n",
    "Para poder finalizar estos procesos hay que\n",
    "_\"matarlos\"_ usando el comando **_`kill`_**."
   ]
  },
  {
   "cell_type": "markdown",
   "metadata": {},
   "source": [
    "__*kill*__ \n",
    "\n",
    "Nos permite entre otras opciones matar procesos, nosotros como usuarios únicamente podemos matar nuestros propios procesos."
   ]
  },
  {
   "cell_type": "markdown",
   "metadata": {},
   "source": [
    "Sintaxis:\n",
    "\n",
    "__*`kill`*__ _`PID`_\n",
    "\n",
    "*\"mata\"* el proceso indicado por el _`PID`_"
   ]
  },
  {
   "cell_type": "markdown",
   "metadata": {},
   "source": [
    "__*kill*__ **`–9`**  _`PID`_\n",
    "\n",
    "*\"mata\"* el proceso indicado (_`PID`_) de forma contundente."
   ]
  },
  {
   "cell_type": "markdown",
   "metadata": {},
   "source": [
    "__*kill*__ **`–15`**  _`PID`_\n",
    "\n",
    "*\"mata\"* el proceso pero al mismo tiempo lo reinicia asignándole el mismo _`PID`_, generalmente se utiliza esta opción para procesos que necesitan estar siempre en ejecución."
   ]
  },
  {
   "cell_type": "markdown",
   "metadata": {},
   "source": [
    "__*killall*__ _`programa`_\n",
    "\n",
    "Este comando es útil, pues *\"mata\"* el proceso descrito por su **nombre** y no por su _`PID`_.\n",
    "La desventaja es que matará *todos* los procesos relacionados a ese *programa* o *comando*."
   ]
  },
  {
   "cell_type": "markdown",
   "metadata": {},
   "source": [
    "# Empaquetamiento\n",
    "\n",
    "__*tar*__ \n",
    "\n",
    "Nos permite empaquetar una estructura de directorios, su función principal es almacenar el contenido de un directorio en forma recursiva dentro de un archivo."
   ]
  },
  {
   "cell_type": "markdown",
   "metadata": {},
   "source": [
    "##### Sintaxis:\n",
    "\n",
    "__*`tar [opciones]` `archivo.tar` `archivo`*__\n",
    "\n",
    "\n",
    "Principales opciones de __*tar*__\n",
    "\n",
    "* __`-c`__ crea un nuevo archivo tareado.\n",
    "* __`-v`__ verbose, imprime en pantalla todo aquello que esta afectando.\n",
    "* __`-f`__ Indica al sistema que va a afectar a un archivo.\n",
    "* __`-x`__ Extrae el contenido de un archivo .tar"
   ]
  },
  {
   "cell_type": "markdown",
   "metadata": {},
   "source": [
    "__*tar*__ **`-cvf`**  _`archivo.tar`_ _`archivo`_\n",
    "\n",
    "Aquí se esta creando un archivo utilizando la opción __`-c`__, la opción __`-v`__ muestra en pantalla todos los archivos y directorios que esta afectando y finalmnte la opción __`-f`__ (*necesaria*) indica que se va a enviar la salida del comando a un archivo.\n",
    "A continuación de las opciones se especifica el nombre que va a tener el *archivo tarareado* y por último el nombre del directorio que va a ser afectado."
   ]
  },
  {
   "cell_type": "markdown",
   "metadata": {},
   "source": [
    "__*tar*__ **`-xvf`**  _`archivo.tar`_\n",
    "\n",
    "Aquí se esta recuperando la información almacenada dentro de un *archivo tarareado*, con la opción __`-x`__, una de las principales características de tar es que no le importa quien es el dueño del archivo, el grupo al que pertenece ni los permisos que tuvo el archivo al momento de ser tarareado, ya que cuando realizamos el proceso de destarear toda la información afectada toma los permisos que nosotros tenemos por default."
   ]
  },
  {
   "cell_type": "markdown",
   "metadata": {},
   "source": [
    "Como regla general cualquier opción es combinada con las opciones __`-vf`__ ya que es recomendable ver qué esta realizando el sistema, así como para indicarle que se está enviando la salida del comando a un archivo.\n",
    "\n",
    "__*`-t`*__ \n",
    "\n",
    "Lista todos los archivos contenidos en un archivo .tar en formato largo mostrando todos sus detalles.\n",
    "\n",
    "__*tar*__ **`-tvf`**  _`archivo.tar`_"
   ]
  },
  {
   "cell_type": "markdown",
   "metadata": {},
   "source": [
    "## Compresión\n",
    "\n",
    "__*gzip*__ \n",
    "\n",
    "Permite realizar una compresión de  archivos, manejando **9 niveles de compresión** que van desde el **-1 al -9** donde el nivel -1 es el nivel de compresión más bajo mientras el nivel -9 es el nivel de compresión más alto.\n",
    "\n",
    "Al momento de ejecutar esta utilera el programa le añade la extensión __`.gz`__ al archivo comprimido, por default maneja el nivel de compresión **6**."
   ]
  },
  {
   "cell_type": "markdown",
   "metadata": {},
   "source": [
    "###### Sintaxis: \n",
    "\n",
    "__*gzip*__ **`-n`**  _`archivo`_\n",
    "\n",
    "La opción __`-n`__ indica el nivel de compresión que se quiera realizar, el nivel óptimo es el `-9` ya que realiza la compresión más alta que puede tener el archivo afectado.\n",
    "\n",
    "__*`-d`*__ Esta opción permite descomprimir un archivo gzipeado.\n",
    "\n",
    "__*gzip*__ **`-d`**  _`archivo.gz`_"
   ]
  },
  {
   "cell_type": "markdown",
   "metadata": {},
   "source": [
    "# Conexion remota y comandos Multiusuario"
   ]
  },
  {
   "cell_type": "markdown",
   "metadata": {},
   "source": [
    "#### Dirección **ip** y dispositivos de Red\n",
    "\n",
    "Toda maquina conectada a un red (*local* o *global*) tiene una dirección identificadora asignada llamda **dirección IP**. En Linux existen diferentes comandos para saber nuestra  *dirección IP* que varian dependiendo de la distibucón que usemos.\n",
    "\n",
    "Por ejemplo en Ubuntu podemos usar el comando \n",
    "\n",
    "__*`ifconfig`*__\n",
    "\n",
    "que detalla las características de nuestros dispositivos de red.\n",
    "\n",
    "\n",
    "\n",
    "\n"
   ]
  },
  {
   "cell_type": "code",
   "execution_count": 1,
   "metadata": {},
   "outputs": [
    {
     "name": "stdout",
     "output_type": "stream",
     "text": [
      "enp0s31f6: flags=4163<UP,BROADCAST,RUNNING,MULTICAST>  mtu 1500\n",
      "        inet 192.168.0.5  netmask 255.255.255.0  broadcast 192.168.0.255\n",
      "        inet6 fe80::909f:4815:8823:319  prefixlen 64  scopeid 0x20<link>\n",
      "        ether 48:2a:e3:1a:74:ec  txqueuelen 1000  (Ethernet)\n",
      "        RX packets 21064920  bytes 16717729222 (16.7 GB)\n",
      "        RX errors 26868  dropped 0  overruns 0  frame 13437\n",
      "        TX packets 12883354  bytes 10792985964 (10.7 GB)\n",
      "        TX errors 0  dropped 0 overruns 0  carrier 0  collisions 0\n",
      "        device interrupt 16  memory 0xe9200000-e9220000  \n",
      "\n",
      "lo: flags=73<UP,LOOPBACK,RUNNING>  mtu 65536\n",
      "        inet 127.0.0.1  netmask 255.0.0.0\n",
      "        inet6 ::1  prefixlen 128  scopeid 0x10<host>\n",
      "        loop  txqueuelen 1000  (Local Loopback)\n",
      "        RX packets 153978  bytes 67061034 (67.0 MB)\n",
      "        RX errors 0  dropped 0  overruns 0  frame 0\n",
      "        TX packets 153978  bytes 67061034 (67.0 MB)\n",
      "        TX errors 0  dropped 0 overruns 0  carrier 0  collisions 0\n",
      "\n",
      "wlp4s0: flags=4163<UP,BROADCAST,RUNNING,MULTICAST>  mtu 1500\n",
      "        inet 192.168.0.6  netmask 255.255.255.0  broadcast 192.168.0.255\n",
      "        inet6 fe80::2f3f:288d:9888:11f7  prefixlen 64  scopeid 0x20<link>\n",
      "        ether 18:1d:ea:2d:0d:43  txqueuelen 1000  (Ethernet)\n",
      "        RX packets 1159032  bytes 1210554087 (1.2 GB)\n",
      "        RX errors 0  dropped 0  overruns 0  frame 0\n",
      "        TX packets 290822  bytes 57968500 (57.9 MB)\n",
      "        TX errors 0  dropped 0 overruns 0  carrier 0  collisions 0\n",
      "\n"
     ]
    }
   ],
   "source": [
    "ifconfig"
   ]
  },
  {
   "cell_type": "markdown",
   "metadata": {},
   "source": [
    "El cual muestra la dirección MAC, es decir el numero de la dirección **física** del equipo, en el formato: **`HX:HX:HX:HX:HX:HX`**.\n",
    "Los valores *HX* son valores numericos en base **Hexadecimal**.\n",
    "\n",
    "Y también muestra el estado de cada uno de los dispositivos de red presentes en el equipo como:\n",
    "\n",
    "- la tarjeta de red por cable (`enp0s31f6` en el ejemplo, pero puede mostrar otra etiqueta), \n",
    "- o la tarjeta inalámbrica (`wlp4s0` en el ejemplo, pero puede mostrar otra etiqueta). \n",
    "\n",
    "Si alguno de estos dispositivos se encuentra conectado a alguna red, también se mostraran:\n",
    "- la mascara de red (`255.255.255.0` en el ejemplo), \n",
    "- la puerta de enlace (o segmento) en la que nos encontramos (`192.168.0.255` en el ejemplo)\n",
    "\n",
    "- y finalmente la **dirección ip** que tenemos asignada dentro de la red (`192.168.0.5` o `192.168.0.6` en el ejemplo). \n",
    "\n",
    "A esta dirección también se le conoce como nodo y no se debe confundir con la dirección del `localhost`.\n",
    "\n",
    "Estas direcciones coincidirán solo si nuestro equipo esta habilitado como un servidor."
   ]
  },
  {
   "cell_type": "markdown",
   "metadata": {},
   "source": [
    "El comado equivalente en la distribución **Debian** (y algunos derivados) es __*`ip`*__ y hasta en el traductor de comandos de **Windows** (_**cmd.exe**_) existe el comando __*`ipconfig`*__."
   ]
  },
  {
   "cell_type": "code",
   "execution_count": null,
   "metadata": {},
   "outputs": [],
   "source": []
  },
  {
   "cell_type": "markdown",
   "metadata": {},
   "source": [
    "#### Envío de paquetes a alguna dirección (prueba de velocidad)\n",
    "\n",
    "**ping**\n",
    "\n",
    "Con este comando hacemos *ping - pong*.\n",
    "\n",
    "Mandamos *paquetes*, o sea, mensajes ICMP (Internet Control Message Protocol) usualmente de 64 bytes a la *dirección IP* especificada en Internet, es decir _**hacemos ping** a esa dirección_. Y si la dirección existe y también esta conectada a Internet, entonces nos devolvera el numero de *paquetes* enviados via el mismo protocolo ICMP es decir _ la dirección especficada **hace pong**.\n",
    "\n",
    "El comando especifica el tiempo que tarda el envio y regreso de los paqutes (el *ping-pong*) por lo que es muy para saber la velocidad a la que estamos conectados, o bien si tenemos conexión a internet. Usando como referencia una dirección que siempre este activa, como por ejemplo Google. El *ping-pong* tarada por lo general unos milisegundos, si el tiempo es muy largo es probale que no tengamos conexión a Internet o que este lenta.\n",
    "\n",
    "**ping** _`direccionIP`_\n",
    "\n",
    "**ping** _`ALIASdireccionIP`_\n",
    "\n",
    "Más información [aqui](https://es.wikipedia.org/wiki/Ping) "
   ]
  },
  {
   "cell_type": "code",
   "execution_count": 3,
   "metadata": {},
   "outputs": [],
   "source": [
    "ping 216.58.195.228"
   ]
  },
  {
   "cell_type": "code",
   "execution_count": null,
   "metadata": {},
   "outputs": [],
   "source": [
    "ping www.google.com"
   ]
  },
  {
   "cell_type": "markdown",
   "metadata": {},
   "source": [
    "### Conexión (terminal) Remota\n",
    "\n",
    "En Linux es posible conectarse a un equipo o servidor desde otra maquina, mediante una terminal remota. Al momento de iniciar sesión en este tipo de terminal se trabaja de la misma manera que cuando se hace en el equipo de manera presencial. Estrictamente hablando, el usuario inicia una sesión formalmente, aunque lo hace desde otra maquina que puede estar o no a una gran distancia.\n",
    "\n",
    "Existen varias formas de conectarse a un equipo Linux de manera remota como telnet, sin embargo lo mas recomendable es hacerlo a través de una __sesión segura__.\n",
    "\n",
    "__*ssh (Security Shell)*__ \n",
    "\n",
    "Este comando permite abrir una sesión segura de manera remota en el equipo o servidor indicado. Para hacerlo hay que indicar el usuario que va a iniciar la sesión así como la ip o el nombre del servidor al cual se desea conectar.\n",
    "\n",
    "__*`ssh saac@hp.fciencias.unam.mx`*__\n",
    "\n",
    "De esta manera el usuario **saac** se conecta al servidor _`h`p_ con dominio `fciencias.unam.mx`. Es importante notar que el usuario **debe existir** en el equipo al que se desea conectar.\n",
    "\n",
    "Nota: **`@`** se interpreta como _`en`_.  \n",
    "Por ejemplo: `saac`_**en**_`hp.fciencias.unam.mx`, hace referencia al usuario **`saac`** en el servidor **`hp`** cuyo dominio es _**`fciencias.unam.mx`**_\n",
    "\n",
    "__*ssh*__ se conecta a través del puerto **`22`** de nuestro equipo, a menos que se especifique lo contrario, y usa un protocolo de **cliente-servidor**.\n",
    "\n",
    "De esta manera si queremos conectarnos de manera remota a un equipo, debemos tener instalado un cliente ssh. Y a su vez el equipo al que nos conectemos, debe tener instalado el **servidor ssh** y habilitado el puerto **22** (u otros) de comunicación.\n",
    "\n",
    "Nota: tener habilitado el *puerto 22* en nuestro equipo de manera permanente puede hacer vulnerable al equipo a ataques."
   ]
  },
  {
   "cell_type": "markdown",
   "metadata": {},
   "source": [
    "#### Servidor Local\n",
    "\n",
    "Cuando nuestro equipo no es un servidor (osea que no tiene una _**ip** fija_ asignada por un administrador (de redes), nuestro equipo tomara una _**ip** local_ o *flotante* (e.g. *192.168.0.1*), si es que está conectado a una red local. O bie, si no esta conectada tomara la **ip** predeterminada para éste, que se conoce como *localhost* (127.0.1.1).\n",
    "\n",
    "De esta manera, se pueden usar los comandos de red de forma local en muestro equipo usando como *dirección __ip__* a `127.0.1.1` o bien su alias localhost. \n",
    "\n",
    "**ssh** _`miUsuario@localhost`_\n",
    "\n",
    "__*ssh miUsuario@127.0.1.1*__\n",
    "\n",
    "\n",
    "O bien podemos conectarnos a otra maquina Linux en nuestra red local, si concoemos su **ip** y tenemos usuario en la misma.\n",
    "\n",
    "__*ssh miUsuario@192.168.0.1*__\n",
    "\n"
   ]
  },
  {
   "cell_type": "markdown",
   "metadata": {},
   "source": [
    "### Copia remota de archivos\n",
    "\n",
    "Es posible copiar archivos desde una maquina a otra usando la red, por medio del protocolo de sesión segura (Security Shell).\n",
    "\n",
    "\n",
    "__*scp*__ \n",
    "\n",
    "funciona exactamente igual que el comando __*`cp`*__, incluso conserva sus opciones (`-r`, `-i`, `-v`), pero funciona de manera **segura** para copiar archivos entre dos equipos en una red.\n",
    "\n",
    "Recordando que `cp` funciona como:\n",
    "\n",
    "**cp** _`origen/archivo`_ _`destino/`_\n",
    "\n",
    "__*scp*__ funciona igual solo que en la ruta de destino o de origen hay que especificar la conexión con el servidor.\n",
    "\n",
    "**Para enviar un archivo:**\n",
    "\n",
    "**scp** _`ruta/local/archivo`_ _`usuario@servidor:ruta/destino/`_\n",
    "\n",
    "\n",
    "\n",
    "**Para traer un archivo:**\n",
    "\n",
    "**scp** _`usuario@servidor:ruta/origen/`_ _`/ruta/local/destino`_\n",
    "\n"
   ]
  },
  {
   "cell_type": "markdown",
   "metadata": {},
   "source": [
    "### Comandos Multiusuario\n",
    "\n",
    "__*who*__ \n",
    "\n",
    "muestra un listado sencillo de quien se encuentra conectado en el servidor, a que hora se conecto y que esta haciendo.\n",
    "\n",
    "__*w*__ \n",
    "\n",
    "muestra un listado con detalles de los usuarios conectados en el servidor.\n",
    "\n",
    "__*last*__ \n",
    "\n",
    "muestra las últimas conexiones de los usuarios al servidor.\n",
    "\n",
    "__*su*__ \n",
    "\n",
    "permite que un usuario se convierta en otro diferente, siempre se puede verificar con que usuario se esta trabajando usando whoami.\n",
    "\n",
    "__*write*__ \n",
    "\n",
    "este comando nos permite enviar un mensaje a un usuario, siempre y cuando el usuario se encuentre conectado en el servidor.\n",
    "\n",
    "__*write*__ _`usuario`_\n",
    "\n",
    "Para terminar el mensaje: __`Ctrl+d`__"
   ]
  },
  {
   "cell_type": "code",
   "execution_count": null,
   "metadata": {},
   "outputs": [],
   "source": []
  }
 ],
 "metadata": {
  "kernelspec": {
   "display_name": "Bash",
   "language": "bash",
   "name": "bash"
  },
  "language_info": {
   "codemirror_mode": "shell",
   "file_extension": ".sh",
   "mimetype": "text/x-sh",
   "name": "bash"
  }
 },
 "nbformat": 4,
 "nbformat_minor": 4
}
