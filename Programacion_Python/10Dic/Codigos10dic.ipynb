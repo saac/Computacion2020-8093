{
 "cells": [
  {
   "cell_type": "markdown",
   "metadata": {},
   "source": [
    "## Algunos códigos que vimos en la clase del 10 de diciembre."
   ]
  },
  {
   "cell_type": "code",
   "execution_count": null,
   "metadata": {},
   "outputs": [],
   "source": [
    "# Primero importamos las bibliotecas necesarias\n",
    "import matplotlib.pyplot as plt\n",
    "import numpy as np\n",
    "from random import *"
   ]
  },
  {
   "cell_type": "code",
   "execution_count": null,
   "metadata": {},
   "outputs": [],
   "source": [
    "# Ejemplo de ciclo for\n",
    "for contador in range(10):\n",
    "    print(\"Hola Alumno!\")"
   ]
  },
  {
   "cell_type": "code",
   "execution_count": null,
   "metadata": {},
   "outputs": [],
   "source": [
    "range(10,51,10) # Esta es la lista sólita de la cual toma valores el for"
   ]
  },
  {
   "cell_type": "markdown",
   "metadata": {},
   "source": [
    "podemos entender este **ciclo for** como:\n",
    "\n",
    "**para `cada` $x \\in L$ hacer**:\n",
    "\n",
    "    instrucciones (pueden incluir o no a la variable contadora)\n",
    "    \n",
    "**fin**\n",
    "\n",
    "Donde $L$ es una lista y `cada` es una variable contadora."
   ]
  },
  {
   "cell_type": "code",
   "execution_count": null,
   "metadata": {},
   "outputs": [],
   "source": [
    "for x in range(10,51,10):\n",
    "    print(x)\n",
    "#     print(\"Hola Alumno!\")"
   ]
  },
  {
   "cell_type": "markdown",
   "metadata": {},
   "source": [
    "### Formas alternativa del ciclo for"
   ]
  },
  {
   "cell_type": "code",
   "execution_count": null,
   "metadata": {},
   "outputs": [],
   "source": [
    "# Aqui estamos definiendo un ciclo for que comienza en el 3, acaba en el 56 (pues no llega a 57) y avanza de 3 en 3\n",
    "# este ciclo imprime el doble del valor de la variable contadora\n",
    "\n",
    "for i in range(3,57,3):\n",
    "    print(2*i)"
   ]
  },
  {
   "cell_type": "code",
   "execution_count": null,
   "metadata": {},
   "outputs": [],
   "source": []
  },
  {
   "cell_type": "code",
   "execution_count": null,
   "metadata": {},
   "outputs": [],
   "source": [
    "# una lista de alumnos\n",
    "alumnos = ['Joel', 'Rodrigo', 'Luis', 'Andreo', 'Daniel', 'Janet', 'Mauro', 'Brenda']"
   ]
  },
  {
   "cell_type": "code",
   "execution_count": null,
   "metadata": {},
   "outputs": [],
   "source": [
    "# un ciclo for usando la lista de alumnos\n",
    "\n",
    "for alum in alumnos:\n",
    "    calif = 10*random()\n",
    "    print(alum, 'su calificacion es:', calif)"
   ]
  },
  {
   "cell_type": "code",
   "execution_count": null,
   "metadata": {},
   "outputs": [],
   "source": [
    "range(len(alumnos)) \n",
    "\n",
    "# esto nos genera una lista de numeros (comenzando en el cero) \n",
    "# de la misma longitud del numero de elementos de la lista alumnos\n",
    "# Es util cuando queremos usar un for con los indices de un arreglo o lista, en vez de usar la propia lista."
   ]
  },
  {
   "cell_type": "code",
   "execution_count": null,
   "metadata": {},
   "outputs": [],
   "source": [
    "# El mismo ciclo for de la lista de alumnos, pero usando los indices de la misma...\n",
    "for i in range(len(alumnos)):\n",
    "    calif = 10*random()\n",
    "    print(alumnos[i], 'su calificacion es', calif)"
   ]
  },
  {
   "cell_type": "code",
   "execution_count": null,
   "metadata": {},
   "outputs": [],
   "source": []
  },
  {
   "cell_type": "code",
   "execution_count": null,
   "metadata": {},
   "outputs": [],
   "source": [
    "# Definiendo una función para graficar\n",
    "\n",
    "def g(x):\n",
    "    return x * x\n",
    "\n",
    "x = np.arange(10)\n",
    "y = g(x)\n",
    "\n",
    "\n",
    "plt.plot(x, y)"
   ]
  },
  {
   "cell_type": "markdown",
   "metadata": {},
   "source": [
    "Acá una función cuadratica simple:\n",
    "\n",
    "$ f(x) = ax^2 + dx + f$"
   ]
  },
  {
   "cell_type": "code",
   "execution_count": null,
   "metadata": {},
   "outputs": [],
   "source": [
    "# Y la definimos en python\n",
    "def f(x,a,d,f):\n",
    "    return a*x**2 + d*x + f"
   ]
  },
  {
   "cell_type": "code",
   "execution_count": null,
   "metadata": {},
   "outputs": [],
   "source": [
    "A = 10\n",
    "B = 3\n",
    "C = 2.5\n",
    "# x = 2  # un sólo valor de xmplot3d\n",
    "\n",
    "\n",
    "# Esto es una forma de obtener valores \n",
    "# for r in range(10):\n",
    "#     print( f(r,A,B,C) )\n",
    "    \n",
    "# Y aqui otra forma \n",
    "# x = np.arange(100)\n",
    "\n",
    "# definimos valores para x y y\n",
    "x = np.arange(-100,100,.25)\n",
    "# y = f(x,A,B,C)\n",
    "\n",
    "# Y los graficamos\n",
    "# plt.plot(x,y)\n",
    "plt.plot(x,f(x,A,B,C),'.')\n"
   ]
  },
  {
   "cell_type": "code",
   "execution_count": null,
   "metadata": {},
   "outputs": [],
   "source": [
    "# A = 10\n",
    "# B = 3\n",
    "C = 2.5\n",
    "\n",
    "# Variando el parametro A\n",
    "for A in range(-5,5):\n",
    "    x = np.arange(-100,100,.25)\n",
    "#     plt.plot(x,f(x,A,B,C),'.')\n",
    "    plt.plot(x,f(x,A,B,C))\n"
   ]
  },
  {
   "cell_type": "code",
   "execution_count": null,
   "metadata": {},
   "outputs": [],
   "source": [
    "# A = 10\n",
    "# B = 3\n",
    "C = 2.5\n",
    "\n",
    "# Variando el parametro A y el B\n",
    "for A in range(-5,5):\n",
    "    for B in range(-5,5):\n",
    "        x = np.arange(-100,100)\n",
    "        plt.plot(x,f(x,A,B,C))"
   ]
  },
  {
   "cell_type": "markdown",
   "metadata": {},
   "source": [
    "Ahora intentemos gráficar una función más compliada.\n",
    "\n",
    "Que tal la ecuación general de segundo orden ...\n",
    "\n",
    "\n",
    "$ ax^2 + bxy + cy^2 + dx + ey + f  = 0$\n",
    "\n",
    "Pero en realidad, si vieramos este polinomio como una **función**,  enronces sería algo que *viviría* en $\\mathbb{R}^3$:\n",
    "\n",
    "$ f(x,y) = ax^2 + bxy + cy^2 + dx + ey + f$\n",
    "\n",
    "\n",
    "Así entonces, para graficar en $\\mathbb{R}^3$ (o sea *3D*), necesitamos usar la biblioteca `mplot3d`. Puedes encontrar más infomrmación [aquí](https://matplotlib.org/mpl_toolkits/mplot3d/tutorial.html)."
   ]
  },
  {
   "cell_type": "code",
   "execution_count": null,
   "metadata": {},
   "outputs": [],
   "source": [
    "#Primero definamos la función\n",
    "\n",
    "def SegundoGrado(x,y,a,b,c,d,e,f):\n",
    "    return a*x**2 + b*x*y + c*y**2 +d*x+ e*y + f"
   ]
  },
  {
   "cell_type": "code",
   "execution_count": null,
   "metadata": {},
   "outputs": [],
   "source": [
    "# y ahora demos algunos valores a las constantes \n",
    "\n",
    "a = 3\n",
    "b = 0\n",
    "c = 7\n",
    "d = 42\n",
    "e = np.e\n",
    "f = 5\n",
    "\n",
    "# Definamos un dominio (x,y) y pongamos z como valor de f(x,y)\n",
    "\n",
    "x = np.arange(-10,10)\n",
    "y = np.arange(-10,10)\n",
    "z = SegundoGrado(x,y,a,b,c,d,e,f)"
   ]
  },
  {
   "cell_type": "code",
   "execution_count": null,
   "metadata": {},
   "outputs": [],
   "source": [
    "# importamos la biblioteca mplot3d del paquete mpl_toolkits\n",
    "from mpl_toolkits import mplot3d\n",
    "\n",
    "fig = plt.figure()\n",
    "ax = plt.axes(projection='3d')\n",
    "\n",
    "\n",
    "# y graficamos\n",
    "ax.plot3D(x, y, z)\n"
   ]
  },
  {
   "cell_type": "code",
   "execution_count": null,
   "metadata": {},
   "outputs": [],
   "source": []
  },
  {
   "cell_type": "code",
   "execution_count": null,
   "metadata": {},
   "outputs": [],
   "source": []
  }
 ],
 "metadata": {
  "kernelspec": {
   "display_name": "Python 3",
   "language": "python",
   "name": "python3"
  },
  "language_info": {
   "codemirror_mode": {
    "name": "ipython",
    "version": 2
   },
   "file_extension": ".py",
   "mimetype": "text/x-python",
   "name": "python",
   "nbconvert_exporter": "python",
   "pygments_lexer": "ipython2",
   "version": "2.7.15"
  }
 },
 "nbformat": 4,
 "nbformat_minor": 2
}
