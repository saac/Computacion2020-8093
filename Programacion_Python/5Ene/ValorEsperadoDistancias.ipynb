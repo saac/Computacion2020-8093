{
 "cells": [
  {
   "cell_type": "markdown",
   "metadata": {},
   "source": [
    "Aqui haremos un programa para calcuar el **valor esperado** al que convergen las distancias entre cualesquiera dos pares de puntos ($A$ y $B_k$) en una circunferencia de radio 1 \n",
    "\n",
    "$\\mu_n = \\dfrac{1}{n} \\displaystyle \\sum_{k=1}^{n} d(A,B_k)$"
   ]
  },
  {
   "cell_type": "markdown",
   "metadata": {},
   "source": [
    "Primero cargamos las librerias necesarias (recordemos que hay varias dromas de hacerlo)."
   ]
  },
  {
   "cell_type": "code",
   "execution_count": 1,
   "metadata": {},
   "outputs": [],
   "source": [
    "# Cargamos Numpy\n",
    "# from numpy import *\n",
    "# import numpy\n",
    "import numpy as np\n",
    "\n",
    "# Random\n",
    "# from random import *\n",
    "import random as rnd\n",
    "\n",
    "# y MatPloLib\n",
    "import matplotlib as plt"
   ]
  },
  {
   "cell_type": "markdown",
   "metadata": {},
   "source": [
    "Ahora creamos una función para calcular la distancia entre cualesquiera dos pares de puntos ($A$ y $B$) "
   ]
  },
  {
   "cell_type": "code",
   "execution_count": 2,
   "metadata": {},
   "outputs": [],
   "source": [
    "def dist(A,B):\n",
    "    \n",
    "    x1 = A[0]\n",
    "    x2 = B[0]\n",
    "    y1 = A[1]\n",
    "    y2 = B[1]    \n",
    "    \n",
    "    d = np.sqrt((x1-x2)**2 + (y1-y2)**2)  \n",
    "    \n",
    "    return d"
   ]
  },
  {
   "cell_type": "markdown",
   "metadata": {},
   "source": [
    "Y la probamos para una distancia bien conocida entre dos puntos también bien definidos, para ver que funcione bien... "
   ]
  },
  {
   "cell_type": "code",
   "execution_count": 3,
   "metadata": {},
   "outputs": [
    {
     "name": "stdout",
     "output_type": "stream",
     "text": [
      "2.0\n"
     ]
    }
   ],
   "source": [
    "A = (1,0)\n",
    "B = (-1,0)\n",
    "\n",
    "print(dist(A,B))"
   ]
  },
  {
   "cell_type": "markdown",
   "metadata": {},
   "source": [
    "Recordemos que podemos acceder a las **cordenadas** de una *dupla* o *tripleta* de la siguiente forma ..."
   ]
  },
  {
   "cell_type": "code",
   "execution_count": 4,
   "metadata": {},
   "outputs": [],
   "source": [
    "# print A[0]\n",
    "# print A[1]\n",
    "\n",
    "# print B[0]\n",
    "# print B[1]\n",
    "\n",
    "\n",
    "# C = [1,2,3]\n",
    "\n",
    "# print C[0]\n",
    "# print C[1]\n",
    "# print C[2]"
   ]
  },
  {
   "cell_type": "markdown",
   "metadata": {},
   "source": [
    "Ahora generemos varios puntos dentro de la circunferencia de radio 1.\n",
    "\n",
    "Para ello usaremos el echo de que cualquier punto de la circunferencia unitaria se puede definir en terminos de un parámetro (un ángulo $\\theta$) como:\n",
    "\n",
    "$ (cos(\\theta),sen(\\theta)) $"
   ]
  },
  {
   "cell_type": "markdown",
   "metadata": {},
   "source": [
    "Primero generemos puntos variando el ángulo $\\theta$ en un rango (o sea, el intervalo) de $0$ a $2 \\pi$\n",
    "\n",
    "$\\theta \\in [0,2\\pi]$"
   ]
  },
  {
   "cell_type": "code",
   "execution_count": 5,
   "metadata": {},
   "outputs": [],
   "source": [
    "puntos = []  # una lista vacia para ir guardando las parejas ordenadas (\"puntos\") que generemos\n",
    "\n",
    "for t in np.arange(0,2*(np.pi),0.1):\n",
    "#     print t\n",
    "#     print (cos(t),sin(t))\n",
    "    puntos.append((np.cos(t),np.sin(t)))\n",
    "\n",
    "# print puntos"
   ]
  },
  {
   "cell_type": "markdown",
   "metadata": {},
   "source": [
    "También podemos generar puntos aleatorios tomando ángulos aletaorios dentro del intervalo $[0,2\\pi]$\n",
    "\n",
    "Y así generar el numero de puntos que necesitemos...\n",
    "\n",
    "Por ejemplo 100"
   ]
  },
  {
   "cell_type": "code",
   "execution_count": 6,
   "metadata": {},
   "outputs": [
    {
     "name": "stdout",
     "output_type": "stream",
     "text": [
      "100\n"
     ]
    }
   ],
   "source": [
    "puntos = []\n",
    "\n",
    "for i in range(100):  # Un loop \"for\" que se repite 100 veces\n",
    "    t = rnd.uniform(0,2*(np.pi))\n",
    "    puntos.append((np.cos(t),np.sin(t)) )\n",
    "    \n",
    "print len(puntos)   "
   ]
  },
  {
   "cell_type": "code",
   "execution_count": 7,
   "metadata": {},
   "outputs": [
    {
     "name": "stdout",
     "output_type": "stream",
     "text": [
      "0.272032493833\n",
      "-1.13321278681\n",
      "3.44895925329\n"
     ]
    }
   ],
   "source": [
    "# Aqui algunas formas distintas de generar numeros aleatorios\n",
    "\n",
    "print rnd.random()  # un numero aleatorio entre 0 y 1 usando la bibloteca random\n",
    "\n",
    "print np.random.normal()  # un numero aleatorio extraido de una distribución normal usando la bibloteca numpy\n",
    "\n",
    "print rnd.uniform(0,2*(np.pi))  # un numero aleatorio (entre 0 y 2*pi) extraido de una distribución uniforme usando la bibloteca random"
   ]
  },
  {
   "cell_type": "markdown",
   "metadata": {},
   "source": [
    "Podemos pedirle al usuario que él mismo denfina el número $X$ de puntos para calcular la distancia ..."
   ]
  },
  {
   "cell_type": "code",
   "execution_count": 8,
   "metadata": {},
   "outputs": [
    {
     "name": "stdout",
     "output_type": "stream",
     "text": [
      "diga cuantos puntos se generaran 100000\n",
      "100000\n"
     ]
    }
   ],
   "source": [
    "puntos = []\n",
    " \n",
    "X = int(input(\"diga cuantos puntos se generaran \"))\n",
    "\n",
    "for i in range(X):\n",
    "    t = rnd.uniform(0,2*(np.pi))\n",
    "    puntos.append((np.cos(t),np.sin(t)) )\n",
    "    \n",
    "print len(puntos)   "
   ]
  },
  {
   "cell_type": "markdown",
   "metadata": {},
   "source": [
    "Ahora calculemos el valor esperado (en este caso el promedio) del punto $A = (1,0)$ a todos los puntos $B_k$ que generamos"
   ]
  },
  {
   "cell_type": "code",
   "execution_count": 9,
   "metadata": {},
   "outputs": [
    {
     "name": "stdout",
     "output_type": "stream",
     "text": [
      "1.2739283392140446\n"
     ]
    }
   ],
   "source": [
    "A = (1,0)\n",
    "mu = 0\n",
    "N = len(puntos) \n",
    "\n",
    "for Bk in puntos:\n",
    "#     print Bk\n",
    "#     print dist(A,Bk)\n",
    "    mu = mu + dist(A,Bk)  # asi calculamos la suma de todas las distancias\n",
    "    \n",
    "print mu/N  # y dividimos la suma por el numero de puntos, para calcular el valor esperado (en este caso el promedio)\n"
   ]
  },
  {
   "cell_type": "markdown",
   "metadata": {},
   "source": [
    "Comparmeos con el valor $\\frac{4}{\\pi}$"
   ]
  },
  {
   "cell_type": "code",
   "execution_count": 10,
   "metadata": {},
   "outputs": [
    {
     "name": "stdout",
     "output_type": "stream",
     "text": [
      "1.27323954474\n"
     ]
    }
   ],
   "source": [
    "print(4/(np.pi))"
   ]
  },
  {
   "cell_type": "markdown",
   "metadata": {},
   "source": [
    "En este caso, dado que tenemos que calcular un promedio también podemos usar la función `mean()` de `numpy` y le damos como argumento la lista de distancias ..."
   ]
  },
  {
   "cell_type": "code",
   "execution_count": 11,
   "metadata": {},
   "outputs": [
    {
     "data": {
      "text/plain": [
       "1.2739283392140308"
      ]
     },
     "execution_count": 11,
     "metadata": {},
     "output_type": "execute_result"
    }
   ],
   "source": [
    "distancias = []\n",
    "\n",
    "for Bk in puntos:\n",
    "    distancias.append(dist(A,Bk))\n",
    "\n",
    "np.mean(distancias)"
   ]
  },
  {
   "cell_type": "markdown",
   "metadata": {},
   "source": [
    "Solo nos falta hacer la gráfica de la aproximación ..."
   ]
  },
  {
   "cell_type": "code",
   "execution_count": null,
   "metadata": {},
   "outputs": [],
   "source": []
  },
  {
   "cell_type": "code",
   "execution_count": null,
   "metadata": {},
   "outputs": [],
   "source": []
  },
  {
   "cell_type": "code",
   "execution_count": null,
   "metadata": {},
   "outputs": [],
   "source": []
  }
 ],
 "metadata": {
  "kernelspec": {
   "display_name": "Python 3",
   "language": "python",
   "name": "python3"
  },
  "language_info": {
   "codemirror_mode": {
    "name": "ipython",
    "version": 2
   },
   "file_extension": ".py",
   "mimetype": "text/x-python",
   "name": "python",
   "nbconvert_exporter": "python",
   "pygments_lexer": "ipython2",
   "version": "2.7.15"
  }
 },
 "nbformat": 4,
 "nbformat_minor": 2
}
