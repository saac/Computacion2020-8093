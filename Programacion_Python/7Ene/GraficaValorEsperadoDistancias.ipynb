{
 "cells": [
  {
   "cell_type": "markdown",
   "metadata": {},
   "source": [
    "Aqui haremos un programa para calcuar varios **valores esperados** al que convergen las distancias entre cualesquiera dos pares de puntos ($A$ y $B_k$) en una circunferencia de radio 1, para diferentes $N$ (i.e. varias simualciones)\n",
    "\n",
    "$\\mu_n = \\dfrac{1}{n} \\displaystyle \\sum_{k=1}^{n} d(A,B_k)$"
   ]
  },
  {
   "cell_type": "markdown",
   "metadata": {},
   "source": [
    "Primero cargamos las librerias necesarias (recordemos que hay varias dromas de hacerlo)."
   ]
  },
  {
   "cell_type": "code",
   "execution_count": 1,
   "metadata": {},
   "outputs": [],
   "source": [
    "import numpy as np\n",
    "import random as rnd\n",
    "import matplotlib.pyplot as plt"
   ]
  },
  {
   "cell_type": "markdown",
   "metadata": {},
   "source": [
    "Ahora creamos una función para calcular la distancia entre cualesquiera dos pares de puntos ($A$ y $B$) "
   ]
  },
  {
   "cell_type": "code",
   "execution_count": 2,
   "metadata": {},
   "outputs": [],
   "source": [
    "def dist(A,B):\n",
    "    \n",
    "    x1 = A[0]\n",
    "    x2 = B[0]\n",
    "    y1 = A[1]\n",
    "    y2 = B[1]    \n",
    "    \n",
    "    d = np.sqrt((x1-x2)**2 + (y1-y2)**2)  \n",
    "    \n",
    "    return d"
   ]
  },
  {
   "cell_type": "markdown",
   "metadata": {},
   "source": [
    "Ahora generemos varios puntos dentro de la circunferencia de radio 1.\n",
    "\n",
    "Para ello usaremos el echo de que cualquier punto de la circunferencia unitaria se puede definir en terminos de un parámetro (un ángulo $\\theta$) como:\n",
    "\n",
    "$ (cos(\\theta),sen(\\theta)) $"
   ]
  },
  {
   "cell_type": "code",
   "execution_count": 3,
   "metadata": {},
   "outputs": [],
   "source": [
    "Ns =  []\n",
    "MUs = []\n",
    "\n",
    "for N in range(1,6000):   #Se realizaran N experimentos (generar varios puntos), cada uno con la N indicada\n",
    "    \n",
    "    puntos = []\n",
    "\n",
    "    # X = int(input(\"diga cuantos puntos se generaran \"))\n",
    "    # X = 100000\n",
    "\n",
    "    for i in range(N):    # Aca es donde se generan los puntos (es decir, cada experimento) dependiendo la N dada\n",
    "        t = rnd.uniform(0,2*(np.pi))\n",
    "        puntos.append((np.cos(t),np.sin(t)))  \n",
    "\n",
    "    A = (1,0)\n",
    "    mu = 0\n",
    "\n",
    "    for Bk in puntos:\n",
    "        mu = mu + dist(A,Bk)  # asi calculamos la suma de todas lpltas distancias\n",
    "\n",
    "    Ns.append(N)\n",
    "    MUs.append(mu/N)\n"
   ]
  },
  {
   "cell_type": "code",
   "execution_count": 4,
   "metadata": {},
   "outputs": [
    {
     "data": {
      "text/plain": [
       "Text(0,0.5,'$\\\\mu$')"
      ]
     },
     "execution_count": 4,
     "metadata": {},
     "output_type": "execute_result"
    },
    {
     "data": {
      "image/png": "[encoded data removed]",
      "text/plain": [
       "<Figure size 432x288 with 1 Axes>"
      ]
     },
     "metadata": {
      "needs_background": "light"
     },
     "output_type": "display_data"
    }
   ],
   "source": [
    "plt.plot(Ns,MUs,'.')\n",
    "plt.axhline(4/(np.pi),color='orange')\n",
    "plt.title(\"Grafica de $\\mu$ vs $N$\")\n",
    "plt.xlabel(\"$N$\")\n",
    "plt.ylabel(\"$\\mu$\")"
   ]
  },
  {
   "cell_type": "code",
   "execution_count": null,
   "metadata": {},
   "outputs": [],
   "source": []
  },
  {
   "cell_type": "code",
   "execution_count": 11,
   "metadata": {},
   "outputs": [],
   "source": [
    "Ns =  []\n",
    "MUs = []\n",
    "\n",
    "   \n",
    "puntos = []\n",
    "\n",
    "for i in [0.1,0.01,0.001,0.0001,.00001]:\n",
    "\n",
    "    for t in np.arange(0,2*(np.pi),i):\n",
    "        puntos.append((np.cos(t),np.sin(t)))   \n",
    "\n",
    "    A = (1,0)  \n",
    "    mu = 0\n",
    "    N = len(puntos) \n",
    "\n",
    "    for Bk in puntos:\n",
    "        mu = mu + dist(A,Bk)  # asi calculamos la suma de todas las distancias\n",
    "\n",
    "    Ns.append(N)\n",
    "    MUs.append(mu/N)\n"
   ]
  },
  {
   "cell_type": "code",
   "execution_count": 12,
   "metadata": {},
   "outputs": [
    {
     "data": {
      "text/plain": [
       "[63, 692, 6976, 69808, 698127]"
      ]
     },
     "execution_count": 12,
     "metadata": {},
     "output_type": "execute_result"
    }
   ],
   "source": [
    "Ns"
   ]
  },
  {
   "cell_type": "code",
   "execution_count": 13,
   "metadata": {},
   "outputs": [
    {
     "data": {
      "text/plain": [
       "[1.2696877225332288,\n",
       " 1.2716614814988751,\n",
       " 1.2729342967337738,\n",
       " 1.2732063609273143,\n",
       " 1.2732353707036155]"
      ]
     },
     "execution_count": 13,
     "metadata": {},
     "output_type": "execute_result"
    }
   ],
   "source": [
    "MUs"
   ]
  },
  {
   "cell_type": "code",
   "execution_count": 14,
   "metadata": {},
   "outputs": [
    {
     "name": "stdout",
     "output_type": "stream",
     "text": [
      "1.27323954474\n"
     ]
    }
   ],
   "source": [
    "print(4/(np.pi))"
   ]
  },
  {
   "cell_type": "code",
   "execution_count": 15,
   "metadata": {},
   "outputs": [
    {
     "data": {
      "text/plain": [
       "Text(0,0.5,'$\\\\mu$')"
      ]
     },
     "execution_count": 15,
     "metadata": {},
     "output_type": "execute_result"
    },
    {
     "data": {
      "image/png": "[encoded data removed]",
      "text/plain": [
       "<Figure size 432x288 with 1 Axes>"
      ]
     },
     "metadata": {
      "needs_background": "light"
     },
     "output_type": "display_data"
    }
   ],
   "source": [
    "plt.plot(Ns,MUs,'o')\n",
    "plt.axhline(4/(np.pi),color=\"red\", linestyle='--')\n",
    "plt.title(\"Grafica de $\\mu$ vs $N$\")\n",
    "plt.xlabel(\"$N$\")\n",
    "plt.ylabel(\"$\\mu$\")"
   ]
  },
  {
   "cell_type": "code",
   "execution_count": null,
   "metadata": {},
   "outputs": [],
   "source": []
  },
  {
   "cell_type": "code",
   "execution_count": null,
   "metadata": {},
   "outputs": [],
   "source": []
  },
  {
   "cell_type": "code",
   "execution_count": null,
   "metadata": {},
   "outputs": [],
   "source": []
  }
 ],
 "metadata": {
  "kernelspec": {
   "display_name": "Python 3",
   "language": "python",
   "name": "python3"
  },
  "language_info": {
   "codemirror_mode": {
    "name": "ipython",
    "version": 2
   },
   "file_extension": ".py",
   "mimetype": "text/x-python",
   "name": "python",
   "nbconvert_exporter": "python",
   "pygments_lexer": "ipython2",
   "version": "2.7.15"
  }
 },
 "nbformat": 4,
 "nbformat_minor": 2
}
