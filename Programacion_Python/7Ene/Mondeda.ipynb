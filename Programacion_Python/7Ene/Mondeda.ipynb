{
 "cells": [
  {
   "cell_type": "code",
   "execution_count": 2,
   "metadata": {},
   "outputs": [],
   "source": [
    "import numpy as np\n",
    "import random as rnd\n",
    "import matplotlib.pyplot as plt"
   ]
  },
  {
   "cell_type": "markdown",
   "metadata": {},
   "source": [
    "Primero simulamos lanzar una moneda ..."
   ]
  },
  {
   "cell_type": "code",
   "execution_count": 25,
   "metadata": {},
   "outputs": [
    {
     "name": "stdout",
     "output_type": "stream",
     "text": [
      "Aguila\n"
     ]
    }
   ],
   "source": [
    "x = rnd.random()\n",
    "if x > 0.5:\n",
    "    print \"Aguila\"\n",
    "else:\n",
    "    print \"Sol\""
   ]
  },
  {
   "cell_type": "markdown",
   "metadata": {},
   "source": [
    "Podemos hacer lo anterior varias veces ..."
   ]
  },
  {
   "cell_type": "code",
   "execution_count": 26,
   "metadata": {},
   "outputs": [
    {
     "name": "stdout",
     "output_type": "stream",
     "text": [
      "Sol\n",
      "Aguila\n",
      "Aguila\n",
      "Sol\n",
      "Aguila\n",
      "Aguila\n",
      "Sol\n",
      "Aguila\n",
      "Sol\n",
      "Sol\n",
      "Aguila\n",
      "Aguila\n",
      "Sol\n",
      "Sol\n",
      "Aguila\n",
      "Sol\n",
      "Aguila\n",
      "Sol\n",
      "Sol\n",
      "Aguila\n",
      "Sol\n",
      "Aguila\n",
      "Aguila\n",
      "Aguila\n",
      "Aguila\n",
      "Sol\n",
      "Aguila\n",
      "Sol\n",
      "Aguila\n",
      "Sol\n",
      "Sol\n",
      "Aguila\n",
      "Aguila\n",
      "Aguila\n",
      "Sol\n",
      "Sol\n",
      "Sol\n",
      "Sol\n",
      "Aguila\n",
      "Aguila\n",
      "Sol\n",
      "Aguila\n",
      "Aguila\n",
      "Aguila\n",
      "Aguila\n",
      "Sol\n",
      "Sol\n",
      "Aguila\n",
      "Sol\n",
      "Aguila\n",
      "Sol\n",
      "Sol\n",
      "Sol\n",
      "Aguila\n",
      "Sol\n",
      "Aguila\n",
      "Sol\n",
      "Sol\n",
      "Aguila\n",
      "Aguila\n",
      "Aguila\n",
      "Aguila\n",
      "Aguila\n",
      "Sol\n",
      "Aguila\n",
      "Aguila\n",
      "Aguila\n",
      "Sol\n",
      "Aguila\n",
      "Aguila\n",
      "Sol\n",
      "Aguila\n",
      "Aguila\n",
      "Aguila\n",
      "Aguila\n",
      "Sol\n",
      "Sol\n",
      "Aguila\n",
      "Aguila\n",
      "Aguila\n",
      "Aguila\n",
      "Sol\n",
      "Aguila\n",
      "Aguila\n",
      "Sol\n",
      "Aguila\n",
      "Sol\n",
      "Aguila\n",
      "Aguila\n",
      "Sol\n",
      "Aguila\n",
      "Aguila\n",
      "Sol\n",
      "Aguila\n",
      "Aguila\n",
      "Sol\n",
      "Sol\n",
      "Aguila\n",
      "Aguila\n",
      "Sol\n"
     ]
    }
   ],
   "source": [
    "N = 100\n",
    "\n",
    "for i in range(N):\n",
    "    x = rnd.random()\n",
    "    if x > 0.5:\n",
    "        print \"Aguila\"\n",
    "    else:\n",
    "        print \"Sol\""
   ]
  },
  {
   "cell_type": "markdown",
   "metadata": {},
   "source": [
    "Para calcular la probabilidad, se divide el **número de casos favorables** (\"Águla\" o \"Sol\"), **entre el número de casos totales (N)**, o sea, el numero de veces que se lanzó la mondeda"
   ]
  },
  {
   "cell_type": "code",
   "execution_count": 27,
   "metadata": {},
   "outputs": [
    {
     "name": "stdout",
     "output_type": "stream",
     "text": [
      "0.5008\n",
      "0.4992\n"
     ]
    }
   ],
   "source": [
    "N = 10000\n",
    "A = 0\n",
    "S = 0\n",
    "\n",
    "pA = 0\n",
    "pS = 0\n",
    "\n",
    "\n",
    "for i in range(N):\n",
    "\n",
    "    x = rnd.random()\n",
    "    if x > 0.5:\n",
    "        A = A + 1        \n",
    "    else:\n",
    "        S = S + 1 \n",
    "        \n",
    "pA = float(A)/float(N)\n",
    "pS = float(S)/float(N)\n",
    "\n",
    "print(pA)\n",
    "print(pS)"
   ]
  },
  {
   "cell_type": "code",
   "execution_count": null,
   "metadata": {},
   "outputs": [],
   "source": []
  },
  {
   "cell_type": "code",
   "execution_count": null,
   "metadata": {},
   "outputs": [],
   "source": []
  }
 ],
 "metadata": {
  "kernelspec": {
   "display_name": "Python 3",
   "language": "python",
   "name": "python3"
  },
  "language_info": {
   "codemirror_mode": {
    "name": "ipython",
    "version": 2
   },
   "file_extension": ".py",
   "mimetype": "text/x-python",
   "name": "python",
   "nbconvert_exporter": "python",
   "pygments_lexer": "ipython2",
   "version": "2.7.15"
  }
 },
 "nbformat": 4,
 "nbformat_minor": 2
}
